{
 "cells": [
  {
   "cell_type": "code",
   "execution_count": 1,
   "metadata": {
    "id": "xxBSVzfZWAVN",
    "tags": []
   },
   "outputs": [
    {
     "name": "stdout",
     "output_type": "stream",
     "text": [
      "WARNING:tensorflow:From C:\\Users\\pc max\\AppData\\Roaming\\Python\\Python311\\site-packages\\keras\\src\\losses.py:2976: The name tf.losses.sparse_softmax_cross_entropy is deprecated. Please use tf.compat.v1.losses.sparse_softmax_cross_entropy instead.\n",
      "\n"
     ]
    }
   ],
   "source": [
    "import numpy as np\n",
    "import os\n",
    "import cv2\n",
    "import keras\n",
    "import math\n",
    "import tensorflow as tf\n",
    "import datetime"
   ]
  },
  {
   "cell_type": "code",
   "execution_count": 5,
   "metadata": {},
   "outputs": [
    {
     "data": {
      "text/plain": [
       "'2.15.0'"
      ]
     },
     "execution_count": 5,
     "metadata": {},
     "output_type": "execute_result"
    }
   ],
   "source": [
    "tf.__version__"
   ]
  },
  {
   "cell_type": "code",
   "execution_count": 6,
   "metadata": {},
   "outputs": [
    {
     "data": {
      "text/plain": [
       "'2.15.0'"
      ]
     },
     "execution_count": 6,
     "metadata": {},
     "output_type": "execute_result"
    }
   ],
   "source": [
    "keras.__version__"
   ]
  },
  {
   "cell_type": "code",
   "execution_count": 17,
   "metadata": {
    "id": "iKTv4Cp921ZY",
    "tags": []
   },
   "outputs": [],
   "source": [
    "class ShopliftingPrediction:\n",
    "  def __init__(self, model_path, frame_width, frame_height, sequence_length):\n",
    "    self.frame_width = frame_width\n",
    "    self.frame_height = frame_height\n",
    "    self.sequence_length = sequence_length\n",
    "    self.model_path = model_path\n",
    "  def load_model(self):\n",
    "    self.model = tf.keras.models.load_model(self.model_path)\n",
    "  def generate_message_content(self, probability, label):\n",
    "    if label == 0:\n",
    "      if probability <= 75:\n",
    "        self.message = \"There is little chance of theft\"\n",
    "      elif probability <= 85:\n",
    "        self.message = \"High probability of theft\"\n",
    "      else:\n",
    "        self.message = \"Very high probability of theft\"\n",
    "    elif label == 1:\n",
    "      if probability <= 75:\n",
    "        self.message = \"The movement is confusing, watch\"\n",
    "      elif probability <= 85:\n",
    "        self.message = \"I think it's normal, but it's better to watch\"\n",
    "      else:\n",
    "        self.message = \"Movement is normal\"\n",
    "  def Pre_Process_Video(self, current_frame, previous_frame):\n",
    "      diff = cv2.absdiff(current_frame, previous_frame)\n",
    "      diff = cv2.GaussianBlur(diff,(3,3), 0)\n",
    "      resized_frame = cv2.resize(diff, (self.frame_height, self.frame_width))\n",
    "      gray_frame = cv2.cvtColor(resized_frame, cv2.COLOR_BGR2GRAY )\n",
    "      normalized_frame = gray_frame / 255\n",
    "      return normalized_frame\n",
    "  def Read_Video(self, filePath):\n",
    "      self.video_reader = cv2.VideoCapture(filePath)\n",
    "      self.original_video_width = int(self.video_reader.get(cv2.CAP_PROP_FRAME_WIDTH))\n",
    "      self.original_video_height = int(self.video_reader.get(cv2.CAP_PROP_FRAME_HEIGHT))\n",
    "      self.fps = self.video_reader.get(cv2.CAP_PROP_FPS)\n",
    "  def Single_Frame_Predict(self, frames_queue):\n",
    "      probabilities = self.model.predict(np.expand_dims(frames_queue, axis = 0))[0]\n",
    "      predicted_label = np.argmax(probabilities)\n",
    "      probability = math.floor(max(probabilities[0], probabilities[1])*100)\n",
    "      return [probability, predicted_label]\n",
    "  def Predict_Video(self, video_file_path, output_file_path):\n",
    "      global fps\n",
    "      global message\n",
    "      message = 'I will start analysis video now'\n",
    "      self.Read_Video(video_file_path)\n",
    "      video_writer = cv2.VideoWriter(output_file_path, cv2.VideoWriter_fourcc('M', 'P', '4', 'V'),\n",
    "                                    self.fps, (self.original_video_width, self.original_video_height))\n",
    "      success, frame = self.video_reader.read()\n",
    "      previous = frame.copy()\n",
    "      frames_queue = []\n",
    "      while self.video_reader.isOpened():\n",
    "          ok, frame = self.video_reader.read()\n",
    "          if not ok:\n",
    "              break\n",
    "          normalized_frame = self.Pre_Process_Video(frame, previous)\n",
    "          previous = frame.copy()\n",
    "          frames_queue.append(normalized_frame)\n",
    "          if len(frames_queue) == self.sequence_length:\n",
    "              [probability, predicted_label] = self.Single_Frame_Predict(frames_queue)\n",
    "              self.generate_message_content(probability, predicted_label)\n",
    "              message = \"{}:{}%\".format(self.message, probability)\n",
    "              frames_queue = []\n",
    "              print(message)\n",
    "          cv2.rectangle(frame, (0,0), (640, 40), (255, 255, 255), -1)\n",
    "          cv2.putText(frame, message, (1,30), cv2.FONT_HERSHEY_SIMPLEX, 0.5, (0, 0, 0), 1, cv2.LINE_AA)\n",
    "          video_writer.write(frame)\n",
    "      self.video_reader.release()\n",
    "      video_writer.release()"
   ]
  },
  {
   "cell_type": "code",
   "execution_count": 18,
   "metadata": {
    "id": "kjX5qYq4-qbj",
    "tags": []
   },
   "outputs": [],
   "source": [
    "m = ShopliftingPrediction(model_path = \"lrcn_160S_90_90Q.h5\",\n",
    "                          frame_width = 90, frame_height = 90, sequence_length = 160)\n",
    "m.load_model()"
   ]
  },
  {
   "cell_type": "code",
   "execution_count": 19,
   "metadata": {
    "colab": {
     "base_uri": "https://localhost:8080/"
    },
    "id": "fXrGdQqaYt5_",
    "outputId": "e76526b8-8383-4a0f-aac9-5fa810d7db65",
    "tags": []
   },
   "outputs": [
    {
     "name": "stdout",
     "output_type": "stream",
     "text": [
      "1/1 [==============================] - 1s 1s/step\n",
      "Movement is normal:98%\n",
      "1/1 [==============================] - 0s 70ms/step\n",
      "Movement is normal:99%\n",
      "1/1 [==============================] - 0s 70ms/step\n",
      "I think it's normal, but it's better to watch:85%\n",
      "1/1 [==============================] - 0s 63ms/step\n",
      "The movement is confusing, watch:63%\n",
      "1/1 [==============================] - 0s 70ms/step\n",
      "Movement is normal:95%\n",
      "1/1 [==============================] - 0s 60ms/step\n",
      "There is little chance of theft:54%\n",
      "1/1 [==============================] - 0s 70ms/step\n",
      "Movement is normal:99%\n",
      "1/1 [==============================] - 0s 70ms/step\n",
      "Very high probability of theft:98%\n",
      "1/1 [==============================] - 0s 81ms/step\n",
      "Very high probability of theft:98%\n",
      "1/1 [==============================] - 0s 62ms/step\n",
      "Movement is normal:99%\n"
     ]
    }
   ],
   "source": [
    "input_video_file_path = \"test5.mp4\"\n",
    "output_video_file_path = 'output.mp4'\n",
    "m.Predict_Video(input_video_file_path, output_video_file_path)"
   ]
  },
  {
   "cell_type": "code",
   "execution_count": null,
   "metadata": {},
   "outputs": [],
   "source": []
  }
 ],
 "metadata": {
  "accelerator": "GPU",
  "colab": {
   "provenance": []
  },
  "gpuClass": "standard",
  "kernelspec": {
   "display_name": "Python 3 (ipykernel)",
   "language": "python",
   "name": "python3"
  },
  "language_info": {
   "codemirror_mode": {
    "name": "ipython",
    "version": 3
   },
   "file_extension": ".py",
   "mimetype": "text/x-python",
   "name": "python",
   "nbconvert_exporter": "python",
   "pygments_lexer": "ipython3",
   "version": "3.11.5"
  }
 },
 "nbformat": 4,
 "nbformat_minor": 1
}
